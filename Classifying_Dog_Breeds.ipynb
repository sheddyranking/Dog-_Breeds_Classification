{
  "nbformat": 4,
  "nbformat_minor": 0,
  "metadata": {
    "colab": {
      "provenance": [],
      "collapsed_sections": [],
      "mount_file_id": "1MuZiAfe2krRhULLWEGiX7nuXc6F_uT22",
      "authorship_tag": "ABX9TyM8WdxvL93fdN5IpPTxo3nT",
      "include_colab_link": true
    },
    "kernelspec": {
      "name": "python3",
      "display_name": "Python 3"
    },
    "language_info": {
      "name": "python"
    },
    "accelerator": "GPU"
  },
  "cells": [
    {
      "cell_type": "markdown",
      "metadata": {
        "id": "view-in-github",
        "colab_type": "text"
      },
      "source": [
        "<a href=\"https://colab.research.google.com/github/sheddyranking/Dog_Breeds_Classification/blob/main/Classifying_Dog_Breeds.ipynb\" target=\"_parent\"><img src=\"https://colab.research.google.com/assets/colab-badge.svg\" alt=\"Open In Colab\"/></a>"
      ]
    },
    {
      "cell_type": "markdown",
      "source": [
        "**UNZIP THE FILES**"
      ],
      "metadata": {
        "id": "HMmI0gXkozNg"
      }
    },
    {
      "cell_type": "code",
      "execution_count": 2,
      "metadata": {
        "id": "UcluvTcJgxTI"
      },
      "outputs": [],
      "source": [
        "#!unzip \"/content/drive/MyDrive/ Classifying_Dogs_Breeds/dog-breed-identification.zip\" -d \"/content/drive/MyDrive/ Classifying_Dogs_Breeds/\" "
      ]
    },
    {
      "cell_type": "code",
      "source": [],
      "metadata": {
        "id": "9JtZB4Etss5z"
      },
      "execution_count": 2,
      "outputs": []
    },
    {
      "cell_type": "markdown",
      "source": [
        "# Using Transfer Learning and TensorFlow to Classify Different Dog Breeds 🐶\n",
        "\n",
        "## Problem\n",
        "Identifying the breed of a dog when given an image of a dog. for example when sitting at a stadium and i take a photo of a dog, i want to know what breed it is.\n",
        "\n",
        "## Data\n",
        "The data that we are using is from kaggle dogs breeds identification competition https://www.kaggle.com/competitions/dog-breed-identification/data\n",
        "\n",
        "## Evaluation\n",
        "The Evaluation is to submit a file with predictable probabilities for each Dog breed for each test image. https://www.kaggle.com/competitions/dog-breed-identification/overview/evaluation\n",
        "\n",
        "## Features\n",
        "some information about the data:\n",
        "* we are dealing with images (unstructured data) so it is probably best we use Deep Learning/Transfer Learning.\n",
        "* There 120 Breeds of Dogs(there are 120 different classes)\n",
        "* There are around 10,000+ images in the training set (this images have labels)\n",
        "* There are around 10,000+ images in the testing set (this images do not have labels because we will want to predict them).\n"
      ],
      "metadata": {
        "id": "i_oZONPHtNjg"
      }
    },
    {
      "cell_type": "code",
      "source": [],
      "metadata": {
        "id": "4ApTXvDstS4o"
      },
      "execution_count": null,
      "outputs": []
    },
    {
      "cell_type": "markdown",
      "source": [
        "# Get our workspace ready\n",
        "* Import TensorFlow \n",
        "* Import TensorFlow Hub\n",
        "* Make sure we are using a GPU"
      ],
      "metadata": {
        "id": "UZjJOpmzz6sg"
      }
    },
    {
      "cell_type": "code",
      "source": [
        "## import the necessary libraries\n",
        "\n",
        "import tensorflow as tf\n",
        "import tensorflow_hub as hub\n",
        "\n",
        "print(\"tf-version:\",tf.__version__)\n",
        "print(\"tfhub-version:\",hub.__version__)\n",
        "\n",
        "##check for GPU availability\n",
        "print(\"GPU\", \"Available\" if tf.config.list_physical_devices(\"GPU\") else \"not available\") "
      ],
      "metadata": {
        "colab": {
          "base_uri": "https://localhost:8080/"
        },
        "id": "6xWqIOCT0DCe",
        "outputId": "7fadc1d1-337a-472f-bf7d-df400b77b846"
      },
      "execution_count": 1,
      "outputs": [
        {
          "output_type": "stream",
          "name": "stdout",
          "text": [
            "tf-version: 2.8.2\n",
            "tfhub-version: 0.12.0\n",
            "GPU Available\n"
          ]
        }
      ]
    },
    {
      "cell_type": "code",
      "source": [],
      "metadata": {
        "id": "pmXiW_q70Z4_"
      },
      "execution_count": null,
      "outputs": []
    }
  ]
}